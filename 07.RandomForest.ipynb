{
 "cells": [
  {
   "cell_type": "code",
   "execution_count": null,
   "metadata": {
    "collapsed": true
   },
   "outputs": [],
   "source": [
    "# 배깅 기법 (Bagging)\n",
    "# 부트스트랩과 어그리게이팅 기법을 혼합한 앙상블 기법\n",
    "\n",
    "# 부트스트랩 (Bootstrap) : 데이터를 조금은 편향되도록 샘플링하는 기법 (중복 데이터를 허용하여 조금 편항된 데이터 생성)\n",
    "\n",
    "# 어그리게이팅 (Aggregating) : 여러 분류 모델이 예측한 값들을 조합하여 결론을 도출하는 과정 (보팅을 통해 결론 도출)\n",
    "# 하드 보팅 : 배깅에 포함된 K개의 분류 모델에서 최대 득표를 받은 예측값으로 결론 도출\n",
    "# 소프트 보팅 : 모든 분류값의 확률을 리턴하고, 각 분류값별 확률을 더해준 값을 점수로 사용하여\n",
    "# 최대 점수 가진 분류값으로 결론 도출\n",
    "\n",
    "# 랜덤 포레스트 (RF)\n",
    "# 여러 의사결정 트리를 배깅해서 예측을 실행하는 모델 (의사결정 트리의 오버피팅을 줄이고 성능을 높임)\n",
    "# 의사결정 트리에선 최적의 특징으로 트리를 분기하지만, RF 에서는 각 노드에 주어진 데이터를 샘플링해서\n",
    "# 일부 데이터를 제외한 채 최적의 특징을 찾아 트리를 분기하게 됨 (이 과정에서 모델의 편향을 증가시켜 오버피팅 위험 감소)\n",
    "\n",
    "# 부스팅 (Boosting)\n",
    "# 서로 다른 알고리즘에 기반한 여러 분류기를 병렬적으로 학습하는 배깅과 다르게\n",
    "# 동일한 알고리즘의 분류기를 순차적으로 학습하여 여러 개의 분류기를 만든 후,\n",
    "# 테스트를 할 때 가중 투표를 통해 예측값을 결정하는 앙상블 기법"
   ]
  },
  {
   "cell_type": "code",
   "execution_count": 1,
   "outputs": [],
   "source": [
    "# 랜덤 포레스트로 손글씨 분류하기\n",
    "from sklearn import datasets\n",
    "from sklearn import tree\n",
    "from sklearn.ensemble import RandomForestClassifier\n",
    "from sklearn.model_selection import cross_val_score\n",
    "\n",
    "import matplotlib.pyplot as plt\n",
    "import pandas as pd\n",
    "import numpy as np"
   ],
   "metadata": {
    "collapsed": false,
    "pycharm": {
     "name": "#%%\n"
    }
   }
  },
  {
   "cell_type": "code",
   "execution_count": 2,
   "outputs": [],
   "source": [
    "# 손글씨 데이터 불러오기\n",
    "mnist = datasets.load_digits()\n",
    "features, labels = mnist.data, mnist.target"
   ],
   "metadata": {
    "collapsed": false,
    "pycharm": {
     "name": "#%%\n"
    }
   }
  },
  {
   "cell_type": "code",
   "execution_count": 3,
   "outputs": [],
   "source": [
    "# 교차 검증\n",
    "def cross_validation(classifier,features, labels):\n",
    "    cv_scores = []\n",
    "    for i in range(10):\n",
    "        scores = cross_val_score(classifier, features, labels,\n",
    "                                 cv=10, scoring='accuracy')\n",
    "        cv_scores.append(scores.mean())\n",
    "    return cv_scores"
   ],
   "metadata": {
    "collapsed": false,
    "pycharm": {
     "name": "#%%\n"
    }
   }
  },
  {
   "cell_type": "code",
   "execution_count": 5,
   "outputs": [],
   "source": [
    "dt_cv_scores = cross_validation(tree.DecisionTreeClassifier(), features, labels)\n",
    "rf_cv_scores = cross_validation(RandomForestClassifier(), features, labels)"
   ],
   "metadata": {
    "collapsed": false,
    "pycharm": {
     "name": "#%%\n"
    }
   }
  },
  {
   "cell_type": "code",
   "execution_count": 13,
   "outputs": [
    {
     "data": {
      "text/plain": "<AxesSubplot:>"
     },
     "execution_count": 13,
     "metadata": {},
     "output_type": "execute_result"
    },
    {
     "data": {
      "text/plain": "<Figure size 432x288 with 1 Axes>",
      "image/png": "[encoded data removed]"
     },
     "metadata": {
      "needs_background": "light"
     },
     "output_type": "display_data"
    }
   ],
   "source": [
    "#  랜덤 포레스트 vs 의사결정 트리 정확도 시각화\n",
    "cv_list = [\n",
    "    ['random_forest', rf_cv_scores],\n",
    "    ['decision_tree', dt_cv_scores]\n",
    "]\n",
    "\n",
    "df = pd.DataFrame.from_dict(dict(cv_list))\n",
    "df.plot()"
   ],
   "metadata": {
    "collapsed": false,
    "pycharm": {
     "name": "#%%\n"
    }
   }
  },
  {
   "cell_type": "code",
   "execution_count": 14,
   "outputs": [
    {
     "data": {
      "text/plain": "0.8271911855990067"
     },
     "execution_count": 14,
     "metadata": {},
     "output_type": "execute_result"
    }
   ],
   "source": [
    "# 의사결정 트리 정확도\n",
    "np.mean(dt_cv_scores)"
   ],
   "metadata": {
    "collapsed": false,
    "pycharm": {
     "name": "#%%\n"
    }
   }
  },
  {
   "cell_type": "code",
   "execution_count": 15,
   "outputs": [
    {
     "data": {
      "text/plain": "0.9491883923029174"
     },
     "execution_count": 15,
     "metadata": {},
     "output_type": "execute_result"
    }
   ],
   "source": [
    "# 랜덤 포레스트 정확도\n",
    "np.mean(rf_cv_scores)\n",
    "\n"
   ],
   "metadata": {
    "collapsed": false,
    "pycharm": {
     "name": "#%%\n"
    }
   }
  }
 ],
 "metadata": {
  "kernelspec": {
   "display_name": "Python 3",
   "language": "python",
   "name": "python3"
  },
  "language_info": {
   "codemirror_mode": {
    "name": "ipython",
    "version": 2
   },
   "file_extension": ".py",
   "mimetype": "text/x-python",
   "name": "python",
   "nbconvert_exporter": "python",
   "pygments_lexer": "ipython2",
   "version": "2.7.6"
  }
 },
 "nbformat": 4,
 "nbformat_minor": 0
}