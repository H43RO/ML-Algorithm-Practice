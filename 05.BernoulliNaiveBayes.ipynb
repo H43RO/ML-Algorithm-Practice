{
 "cells": [
  {
   "cell_type": "code",
   "execution_count": 16,
   "metadata": {
    "collapsed": true
   },
   "outputs": [],
   "source": [
    "# Bernoulli Naive Bayes\n",
    "\n",
    "import pandas as pd\n",
    "\n",
    "# 베르누이 나이브 베이즈 라이브러리 임포트\n",
    "from sklearn.feature_extraction.text import CountVectorizer\n",
    "from sklearn.naive_bayes import BernoulliNB\n",
    "\n",
    "# 모델 정확도 평가를 위해 임포트\n",
    "from sklearn.metrics import accuracy_score"
   ]
  },
  {
   "cell_type": "code",
   "execution_count": 17,
   "outputs": [
    {
     "data": {
      "text/plain": "                                email title   spam\n0                      free game only today   True\n1                      cheapest flight deal   True\n2  limited time offer only today only today   True\n3                    today meeting schedule  False\n4             your flight schedule attached  False\n5                your credit card statement  False",
      "text/html": "<div>\n<style scoped>\n    .dataframe tbody tr th:only-of-type {\n        vertical-align: middle;\n    }\n\n    .dataframe tbody tr th {\n        vertical-align: top;\n    }\n\n    .dataframe thead th {\n        text-align: right;\n    }\n</style>\n<table border=\"1\" class=\"dataframe\">\n  <thead>\n    <tr style=\"text-align: right;\">\n      <th></th>\n      <th>email title</th>\n      <th>spam</th>\n    </tr>\n  </thead>\n  <tbody>\n    <tr>\n      <th>0</th>\n      <td>free game only today</td>\n      <td>True</td>\n    </tr>\n    <tr>\n      <th>1</th>\n      <td>cheapest flight deal</td>\n      <td>True</td>\n    </tr>\n    <tr>\n      <th>2</th>\n      <td>limited time offer only today only today</td>\n      <td>True</td>\n    </tr>\n    <tr>\n      <th>3</th>\n      <td>today meeting schedule</td>\n      <td>False</td>\n    </tr>\n    <tr>\n      <th>4</th>\n      <td>your flight schedule attached</td>\n      <td>False</td>\n    </tr>\n    <tr>\n      <th>5</th>\n      <td>your credit card statement</td>\n      <td>False</td>\n    </tr>\n  </tbody>\n</table>\n</div>"
     },
     "execution_count": 17,
     "metadata": {},
     "output_type": "execute_result"
    }
   ],
   "source": [
    "# 데이터 획득\n",
    "email_list = [\n",
    "                {'email title': 'free game only today', 'spam': True},\n",
    "                {'email title': 'cheapest flight deal', 'spam': True},\n",
    "                {'email title': 'limited time offer only today only today', 'spam': True},\n",
    "                {'email title': 'today meeting schedule', 'spam': False},\n",
    "                {'email title': 'your flight schedule attached', 'spam': False},\n",
    "                {'email title': 'your credit card statement', 'spam': False}\n",
    "             ]\n",
    "df = pd.DataFrame(email_list)\n",
    "df"
   ],
   "metadata": {
    "collapsed": false,
    "pycharm": {
     "name": "#%%\n"
    }
   }
  },
  {
   "cell_type": "code",
   "execution_count": 18,
   "outputs": [
    {
     "data": {
      "text/plain": "                                email title   spam  label\n0                      free game only today   True      1\n1                      cheapest flight deal   True      1\n2  limited time offer only today only today   True      1\n3                    today meeting schedule  False      0\n4             your flight schedule attached  False      0\n5                your credit card statement  False      0",
      "text/html": "<div>\n<style scoped>\n    .dataframe tbody tr th:only-of-type {\n        vertical-align: middle;\n    }\n\n    .dataframe tbody tr th {\n        vertical-align: top;\n    }\n\n    .dataframe thead th {\n        text-align: right;\n    }\n</style>\n<table border=\"1\" class=\"dataframe\">\n  <thead>\n    <tr style=\"text-align: right;\">\n      <th></th>\n      <th>email title</th>\n      <th>spam</th>\n      <th>label</th>\n    </tr>\n  </thead>\n  <tbody>\n    <tr>\n      <th>0</th>\n      <td>free game only today</td>\n      <td>True</td>\n      <td>1</td>\n    </tr>\n    <tr>\n      <th>1</th>\n      <td>cheapest flight deal</td>\n      <td>True</td>\n      <td>1</td>\n    </tr>\n    <tr>\n      <th>2</th>\n      <td>limited time offer only today only today</td>\n      <td>True</td>\n      <td>1</td>\n    </tr>\n    <tr>\n      <th>3</th>\n      <td>today meeting schedule</td>\n      <td>False</td>\n      <td>0</td>\n    </tr>\n    <tr>\n      <th>4</th>\n      <td>your flight schedule attached</td>\n      <td>False</td>\n      <td>0</td>\n    </tr>\n    <tr>\n      <th>5</th>\n      <td>your credit card statement</td>\n      <td>False</td>\n      <td>0</td>\n    </tr>\n  </tbody>\n</table>\n</div>"
     },
     "execution_count": 18,
     "metadata": {},
     "output_type": "execute_result"
    }
   ],
   "source": [
    "# 데이터 다듬기\n",
    "# - 사이킷런의 베르누이 나이브 베이즈 분류기는 숫자만 다루기 때문에 치환 필요\n",
    "df['label'] = df['spam'].map({True:1, False:0})\n",
    "df"
   ],
   "metadata": {
    "collapsed": false,
    "pycharm": {
     "name": "#%%\n"
    }
   }
  },
  {
   "cell_type": "code",
   "execution_count": 19,
   "outputs": [],
   "source": [
    "# 학습에 사용될 데이터와 분류값 나눔\n",
    "# - 이메일 제목으로 학습하고, 레이블은 label을 사용해 스팸 메일인지 여부 확인\n",
    "df_x = df[\"email title\"]\n",
    "df_y = df[\"label\"]"
   ],
   "metadata": {
    "collapsed": false,
    "pycharm": {
     "name": "#%%\n"
    }
   }
  },
  {
   "cell_type": "code",
   "execution_count": 20,
   "outputs": [],
   "source": [
    "# 베르누이 나이브 베이즈의 입력 데이터는 고정된 크기의 벡터여야 함\n",
    "# 사이킷런의 Count Vectorizer 를 이용하면 간편하게 특정 데이터 내의 모든 단어를 포함한 고정 길이 벡터 생성 가능\n",
    "# Count Vectorizer 를 생성할 때 binary=True 를 설정하면 이메일 제목에 특정 단어가 출현할 경우 무조건 1 을,\n",
    "# 단어가 출현하지 않을 경우에는 0 을 갖도록 설정함\n",
    "\n",
    "cv = CountVectorizer(binary=True)\n",
    "x_traincv = cv.fit_transform(df_x)"
   ],
   "metadata": {
    "collapsed": false,
    "pycharm": {
     "name": "#%%\n"
    }
   }
  },
  {
   "cell_type": "code",
   "execution_count": 21,
   "outputs": [
    {
     "data": {
      "text/plain": "array([[0, 0, 0, 0, 0, 0, 1, 1, 0, 0, 0, 1, 0, 0, 0, 1, 0],\n       [0, 0, 1, 0, 1, 1, 0, 0, 0, 0, 0, 0, 0, 0, 0, 0, 0],\n       [0, 0, 0, 0, 0, 0, 0, 0, 1, 0, 1, 1, 0, 0, 1, 1, 0],\n       [0, 0, 0, 0, 0, 0, 0, 0, 0, 1, 0, 0, 1, 0, 0, 1, 0],\n       [1, 0, 0, 0, 0, 1, 0, 0, 0, 0, 0, 0, 1, 0, 0, 0, 1],\n       [0, 1, 0, 1, 0, 0, 0, 0, 0, 0, 0, 0, 0, 1, 0, 0, 1]])"
     },
     "execution_count": 21,
     "metadata": {},
     "output_type": "execute_result"
    }
   ],
   "source": [
    "# 실행결과를 보면, 이메일 제목들에서 총 17개 단어가 발견되어 각 이메일 제목이 17개 크기 벡터로 인코딩 됨\n",
    "# 이메일 제목에 중복된 단어가 있더라도 중복된 횟수로 표현된 것이 아니라 단순히 1 로 표현된 것을 확인할 수 있음\n",
    "# ex) limited time offer only today : [0, 0, 0, 0, 0, 0, 0, 0, 1, 0, 1, 1, 0, 0, 1, 1, 0]\n",
    "encoded_input = x_traincv.toarray()\n",
    "encoded_input"
   ],
   "metadata": {
    "collapsed": false,
    "pycharm": {
     "name": "#%%\n"
    }
   }
  },
  {
   "cell_type": "code",
   "execution_count": 22,
   "outputs": [
    {
     "data": {
      "text/plain": "[array(['free', 'game', 'only', 'today'], dtype='<U9')]"
     },
     "execution_count": 22,
     "metadata": {},
     "output_type": "execute_result"
    }
   ],
   "source": [
    "# 인코딩된 이메일 제목에 어떤 단어들이 포함되어 있는지 알고 싶은 경우\n",
    "cv.inverse_transform(encoded_input[0])"
   ],
   "metadata": {
    "collapsed": false,
    "pycharm": {
     "name": "#%%\n"
    }
   }
  },
  {
   "cell_type": "code",
   "execution_count": 23,
   "outputs": [
    {
     "data": {
      "text/plain": "['attached',\n 'card',\n 'cheapest',\n 'credit',\n 'deal',\n 'flight',\n 'free',\n 'game',\n 'limited',\n 'meeting',\n 'offer',\n 'only',\n 'schedule',\n 'statement',\n 'time',\n 'today',\n 'your']"
     },
     "execution_count": 23,
     "metadata": {},
     "output_type": "execute_result"
    }
   ],
   "source": [
    "# 벡터의 17개 인덱스 각각이 무슨 단어를 의미하는지 확인\n",
    "cv.get_feature_names()"
   ],
   "metadata": {
    "collapsed": false,
    "pycharm": {
     "name": "#%%\n"
    }
   }
  },
  {
   "cell_type": "code",
   "execution_count": 24,
   "outputs": [
    {
     "data": {
      "text/plain": "BernoulliNB()"
     },
     "execution_count": 24,
     "metadata": {},
     "output_type": "execute_result"
    }
   ],
   "source": [
    "# 베르누이 나이브 베이즈 모델 학습하기\n",
    "# 사이킷런의 베르누이 나이브 베이즈 분류기는 기본적으로 스무딩 지원함\n",
    "# - 학습 데이터에 없던 단어가 테스트 데이터에 있어도 분류가 잘 진행됨\n",
    "\n",
    "bnb = BernoulliNB()\n",
    "y_train = df_y.astype('int')\n",
    "bnb.fit(x_traincv, y_train)"
   ],
   "metadata": {
    "collapsed": false,
    "pycharm": {
     "name": "#%%\n"
    }
   }
  },
  {
   "cell_type": "code",
   "execution_count": 25,
   "outputs": [],
   "source": [
    "# 테스트 데이터 다듬기\n",
    "test_email_list = [\n",
    "                {'email title': 'free flight offer', 'spam': True},\n",
    "                {'email title': 'hey traveler free flight deal', 'spam': True},\n",
    "                {'email title': 'limited free game offer', 'spam': True},\n",
    "                {'email title': 'today flight schedule', 'spam': False},\n",
    "                {'email title': 'your credit card attached', 'spam': False},\n",
    "                {'email title': 'free credit card offer only today', 'spam': False}\n",
    "             ]\n",
    "\n",
    "test_df = pd.DataFrame(test_email_list)\n",
    "test_df['label'] = test_df['spam'].map({True:1, False:0})\n",
    "test_x = test_df[\"email title\"]\n",
    "test_y = test_df[\"label\"]\n",
    "x_testcv = cv.transform(test_x)"
   ],
   "metadata": {
    "collapsed": false,
    "pycharm": {
     "name": "#%%\n"
    }
   }
  },
  {
   "cell_type": "code",
   "execution_count": 26,
   "outputs": [],
   "source": [
    "predictions = bnb.predict(x_testcv)"
   ],
   "metadata": {
    "collapsed": false,
    "pycharm": {
     "name": "#%%\n"
    }
   }
  },
  {
   "cell_type": "code",
   "execution_count": 27,
   "outputs": [
    {
     "data": {
      "text/plain": "0.8333333333333334"
     },
     "execution_count": 27,
     "metadata": {},
     "output_type": "execute_result"
    }
   ],
   "source": [
    "accuracy_score(test_y, predictions)"
   ],
   "metadata": {
    "collapsed": false,
    "pycharm": {
     "name": "#%%\n"
    }
   }
  }
 ],
 "metadata": {
  "kernelspec": {
   "display_name": "Python 3",
   "language": "python",
   "name": "python3"
  },
  "language_info": {
   "codemirror_mode": {
    "name": "ipython",
    "version": 2
   },
   "file_extension": ".py",
   "mimetype": "text/x-python",
   "name": "python",
   "nbconvert_exporter": "python",
   "pygments_lexer": "ipython2",
   "version": "2.7.6"
  }
 },
 "nbformat": 4,
 "nbformat_minor": 0
}