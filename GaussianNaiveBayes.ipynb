{
 "cells": [
  {
   "cell_type": "code",
   "execution_count": 6,
   "metadata": {
    "collapsed": true
   },
   "outputs": [
    {
     "data": {
      "text/plain": "   sepal length (cm)  sepal width (cm)  petal length (cm)  petal width (cm)  \\\n0                5.1               3.5                1.4               0.2   \n1                4.9               3.0                1.4               0.2   \n2                4.7               3.2                1.3               0.2   \n3                4.6               3.1                1.5               0.2   \n4                5.0               3.6                1.4               0.2   \n\n   target  \n0  setosa  \n1  setosa  \n2  setosa  \n3  setosa  \n4  setosa  ",
      "text/html": "<div>\n<style scoped>\n    .dataframe tbody tr th:only-of-type {\n        vertical-align: middle;\n    }\n\n    .dataframe tbody tr th {\n        vertical-align: top;\n    }\n\n    .dataframe thead th {\n        text-align: right;\n    }\n</style>\n<table border=\"1\" class=\"dataframe\">\n  <thead>\n    <tr style=\"text-align: right;\">\n      <th></th>\n      <th>sepal length (cm)</th>\n      <th>sepal width (cm)</th>\n      <th>petal length (cm)</th>\n      <th>petal width (cm)</th>\n      <th>target</th>\n    </tr>\n  </thead>\n  <tbody>\n    <tr>\n      <th>0</th>\n      <td>5.1</td>\n      <td>3.5</td>\n      <td>1.4</td>\n      <td>0.2</td>\n      <td>setosa</td>\n    </tr>\n    <tr>\n      <th>1</th>\n      <td>4.9</td>\n      <td>3.0</td>\n      <td>1.4</td>\n      <td>0.2</td>\n      <td>setosa</td>\n    </tr>\n    <tr>\n      <th>2</th>\n      <td>4.7</td>\n      <td>3.2</td>\n      <td>1.3</td>\n      <td>0.2</td>\n      <td>setosa</td>\n    </tr>\n    <tr>\n      <th>3</th>\n      <td>4.6</td>\n      <td>3.1</td>\n      <td>1.5</td>\n      <td>0.2</td>\n      <td>setosa</td>\n    </tr>\n    <tr>\n      <th>4</th>\n      <td>5.0</td>\n      <td>3.6</td>\n      <td>1.4</td>\n      <td>0.2</td>\n      <td>setosa</td>\n    </tr>\n  </tbody>\n</table>\n</div>"
     },
     "execution_count": 6,
     "metadata": {},
     "output_type": "execute_result"
    }
   ],
   "source": [
    "# Naive Bayes Algorithm\n",
    "# 데이터를 Naive(단순)하게 '독립'적인 사건으로 가정하고\n",
    "# 이 독립된 사건들을 'Bayes' 이론에 대입시켜 가장 높은 확률의 레이블로 분류하는 알고리즘\n",
    "# 조건부 확률을 응용한 베이즈 공식을 사용함 -> 공통 분모를 제거하여 연산 속도 이득\n",
    "\n",
    "# 이산적인 데이터\n",
    "# - 다항 분포 나이브 베이즈 : 데이터의 특징이 출현 횟수로 나타날 때 ex) 영화 감상평 토대로 긍정/부정 리뷰 분류\n",
    "# - 베르누이 나이브 베이즈 : 데이터의 특징이 0, 1로 나타날 때 ex) 스팸 메일 분류\n",
    "\n",
    "# 이산적이지 않은 데이터\n",
    "# - 가우시안 나이브 베이즈 : 연속적인 성질이 있는 특징이 있는 데이터 분류 ex) 붓꽃 데이터셋 분류\n",
    "\n",
    "import pandas as pd\n",
    "# iris 데이터셋이 sklearn 에 내장되어있음\n",
    "from sklearn.datasets import load_iris\n",
    "# train_set_split 을 활용하여 데이터 나눔\n",
    "from sklearn.model_selection import train_test_split\n",
    "# Gaussian Naive Bayes 로 iris 데이터를 분류\n",
    "from sklearn.naive_bayes import GaussianNB\n",
    "# 분류 성능을 측정하기 위해 metrics와 accuracy_score 임포트\n",
    "from sklearn import metrics\n",
    "from sklearn.metrics import accuracy_score\n",
    "\n",
    "# iris 데이터 불러옴\n",
    "dataset = load_iris()\n",
    "# pandas 데이터 프레임으로 저장\n",
    "df = pd.DataFrame(dataset.data, columns=dataset.feature_names)\n",
    "# 분류값을 데이터 프레임에 저장\n",
    "df['target'] = dataset.target\n",
    "# 숫자인 분류값을 이해를 돕기위해 문자로 변경\n",
    "# 붓꽃의 종류 3가지 (setosa, versicolor, virginica)\n",
    "df.target = df.target.map({\n",
    "    0: \"setosa\",\n",
    "    1: \"versicolor\",\n",
    "    2: \"virginica\"\n",
    "})\n",
    "\n",
    "# sepal length : 꽃받침 길이\n",
    "# sepal width : 꽃받침 너비\n",
    "# petal length : 꽃잎 길이\n",
    "# petal width : 꽃잎 너비\n",
    "# target : 붓꽃 종류\n",
    "df.head()"
   ]
  },
  {
   "cell_type": "code",
   "execution_count": 5,
   "outputs": [
    {
     "data": {
      "text/plain": "setosa        50\nvirginica     50\nversicolor    50\nName: target, dtype: int64"
     },
     "execution_count": 5,
     "metadata": {},
     "output_type": "execute_result"
    }
   ],
   "source": [
    "df.target.value_counts()"
   ],
   "metadata": {
    "collapsed": false,
    "pycharm": {
     "name": "#%%\n"
    }
   }
  }
 ],
 "metadata": {
  "kernelspec": {
   "display_name": "Python 3",
   "language": "python",
   "name": "python3"
  },
  "language_info": {
   "codemirror_mode": {
    "name": "ipython",
    "version": 2
   },
   "file_extension": ".py",
   "mimetype": "text/x-python",
   "name": "python",
   "nbconvert_exporter": "python",
   "pygments_lexer": "ipython2",
   "version": "2.7.6"
  }
 },
 "nbformat": 4,
 "nbformat_minor": 0
}