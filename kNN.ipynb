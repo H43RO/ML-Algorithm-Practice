{
 "cells": [
  {
   "cell_type": "code",
   "execution_count": 1,
   "metadata": {
    "collapsed": true
   },
   "outputs": [
    {
     "data": {
      "text/plain": "           Player Pos   3P   2P  TRB  AST  STL  BLK\n0    Alex Abrines  SG  1.4  0.6  1.3  0.6  0.5  0.1\n1    Steven Adams   C  0.0  4.7  7.7  1.1  1.1  1.0\n2   Alexis Ajinca   C  0.0  2.3  4.5  0.3  0.5  0.6\n3  Chris Andersen   C  0.0  0.8  2.6  0.4  0.4  0.6\n4     Will Barton  SG  1.5  3.5  4.3  3.4  0.8  0.5",
      "text/html": "<div>\n<style scoped>\n    .dataframe tbody tr th:only-of-type {\n        vertical-align: middle;\n    }\n\n    .dataframe tbody tr th {\n        vertical-align: top;\n    }\n\n    .dataframe thead th {\n        text-align: right;\n    }\n</style>\n<table border=\"1\" class=\"dataframe\">\n  <thead>\n    <tr style=\"text-align: right;\">\n      <th></th>\n      <th>Player</th>\n      <th>Pos</th>\n      <th>3P</th>\n      <th>2P</th>\n      <th>TRB</th>\n      <th>AST</th>\n      <th>STL</th>\n      <th>BLK</th>\n    </tr>\n  </thead>\n  <tbody>\n    <tr>\n      <th>0</th>\n      <td>Alex Abrines</td>\n      <td>SG</td>\n      <td>1.4</td>\n      <td>0.6</td>\n      <td>1.3</td>\n      <td>0.6</td>\n      <td>0.5</td>\n      <td>0.1</td>\n    </tr>\n    <tr>\n      <th>1</th>\n      <td>Steven Adams</td>\n      <td>C</td>\n      <td>0.0</td>\n      <td>4.7</td>\n      <td>7.7</td>\n      <td>1.1</td>\n      <td>1.1</td>\n      <td>1.0</td>\n    </tr>\n    <tr>\n      <th>2</th>\n      <td>Alexis Ajinca</td>\n      <td>C</td>\n      <td>0.0</td>\n      <td>2.3</td>\n      <td>4.5</td>\n      <td>0.3</td>\n      <td>0.5</td>\n      <td>0.6</td>\n    </tr>\n    <tr>\n      <th>3</th>\n      <td>Chris Andersen</td>\n      <td>C</td>\n      <td>0.0</td>\n      <td>0.8</td>\n      <td>2.6</td>\n      <td>0.4</td>\n      <td>0.4</td>\n      <td>0.6</td>\n    </tr>\n    <tr>\n      <th>4</th>\n      <td>Will Barton</td>\n      <td>SG</td>\n      <td>1.5</td>\n      <td>3.5</td>\n      <td>4.3</td>\n      <td>3.4</td>\n      <td>0.8</td>\n      <td>0.5</td>\n    </tr>\n  </tbody>\n</table>\n</div>"
     },
     "execution_count": 1,
     "metadata": {},
     "output_type": "execute_result"
    }
   ],
   "source": [
    "# kNN (k-Nearest Neighbor) Algorithm\n",
    "# 벡터 공간 내에서, 최단 거리의 이웃 데이터 개수에 따라 임의의 데이터를 이진 및 다중 분류하는 알고리즘\n",
    "# ex) 서울 어느 한 지점에 서서 현 위치가 강남인지 강북인지 분류(예측)하기 위해서\n",
    "# 주변 행인 5명한테 물어보니, 4명이 강남 1명이 강북이라 대답하여 강남으로 예측하는 기법\n",
    "\n",
    "# kNN의 k는 예측을 위해 주변 몇 개의 이웃 데이터를 참고할지를 결정\n",
    "# 따라서 가장 정확도가 높은 k 값을 선정하는 것이 과제\n",
    "\n",
    "# NBA 농구 선수들의 게임 데이터를 활용한 포지션 예측\n",
    "import pandas as pd\n",
    "\n",
    "df = pd.read_csv(\"basketball_stat.csv\")\n",
    "df.head()\n",
    "\n",
    "\n"
   ]
  }
 ],
 "metadata": {
  "kernelspec": {
   "display_name": "Python 3",
   "language": "python",
   "name": "python3"
  },
  "language_info": {
   "codemirror_mode": {
    "name": "ipython",
    "version": 2
   },
   "file_extension": ".py",
   "mimetype": "text/x-python",
   "name": "python",
   "nbconvert_exporter": "python",
   "pygments_lexer": "ipython2",
   "version": "2.7.6"
  }
 },
 "nbformat": 4,
 "nbformat_minor": 0
}