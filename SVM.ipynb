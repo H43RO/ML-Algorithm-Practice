{
 "cells": [
  {
   "cell_type": "code",
   "execution_count": null,
   "metadata": {
    "collapsed": true
   },
   "outputs": [],
   "source": [
    "# SVM (Support Vector Machine)\n",
    "# kNN 알고리즘의 예시 상황은 주변 사람들에게 '여기는 강남인가요 강북인가요?' 라고 물어보는 것이라면\n",
    "# SVM 알고리즘의 예시 상황은 주변 사람들에게 '여기는 한강의 남쪽인가요 북쪽인가요?' 라고 물어보는 방식"
   ]
  }
 ],
 "metadata": {
  "kernelspec": {
   "display_name": "Python 3",
   "language": "python",
   "name": "python3"
  },
  "language_info": {
   "codemirror_mode": {
    "name": "ipython",
    "version": 2
   },
   "file_extension": ".py",
   "mimetype": "text/x-python",
   "name": "python",
   "nbconvert_exporter": "python",
   "pygments_lexer": "ipython2",
   "version": "2.7.6"
  }
 },
 "nbformat": 4,
 "nbformat_minor": 0
}