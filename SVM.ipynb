{
 "cells": [
  {
   "cell_type": "code",
   "execution_count": null,
   "metadata": {
    "collapsed": true
   },
   "outputs": [],
   "source": [
    "# SVM (Support Vector Machine)\n",
    "# kNN 알고리즘의 예시 상황은 주변 사람들에게 '여기는 강남인가요 강북인가요?'라고 물어보는 것이라면\n",
    "# SVM 알고리즘의 예시 상황은 주변 사람들에게 '여기는 한강의 남쪽인가요 북쪽인가요?'라고 물어보는 방식\n",
    "# 한남, 압구정 등이 '한강'이라는 결정 경계선과 가장 가까이 맞닿은 데이터 포인트 -> '서포트 벡터'\n",
    "\n",
    "# SVM 알고리즘의 과제는, 서포트 벡터들과 결정 경계선 사이의 거리 (마진)을 최대로 하는 것\n",
    "# SVM 에서는 비용(C)이라는 변수를 사용함 -> 비용이 낮을 수록 마진을 최대한 높이고\n",
    "# 학습 에러율을 증가시키는 방향으로 결정 경계선을 만듦 (마진을 가장 중요시 해야함)\n",
    "# : 학습 시에 어느정도 에러율이 있었지만, 실제 운용 시 안정적인 분류를 할 수 있음\n",
    "\n",
    "# 결정 경계는 데이터의 벡터 공간 N 차원 보다 한 차원 낮은 차원을 갖게 됨 (3차원 공간 데이터에선 '면' 형태)"
   ]
  }
 ],
 "metadata": {
  "kernelspec": {
   "display_name": "Python 3",
   "language": "python",
   "name": "python3"
  },
  "language_info": {
   "codemirror_mode": {
    "name": "ipython",
    "version": 2
   },
   "file_extension": ".py",
   "mimetype": "text/x-python",
   "name": "python",
   "nbconvert_exporter": "python",
   "pygments_lexer": "ipython2",
   "version": "2.7.6"
  }
 },
 "nbformat": 4,
 "nbformat_minor": 0
}