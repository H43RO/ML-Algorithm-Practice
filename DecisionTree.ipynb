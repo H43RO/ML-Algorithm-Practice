{
 "cells": [
  {
   "cell_type": "code",
   "execution_count": 14,
   "metadata": {
    "collapsed": true
   },
   "outputs": [],
   "source": [
    "# 의사결정 트리 (Decision Tree)\n",
    "# 의사결정 트리 알고리즘읟 동작은 흔히 아는 스무고개 놀이의 알고리즘과 상당히 비슷함\n",
    "# 데이터의 특징을 바탕으로 데이터를 연속적으로 분리하다 보면 결국 하나의 정답으로 데이터 분류 가능\n",
    "# 스무고개 놀이와 마찬가지로, 적은 질문으로 정답을 맞추기 위해 의미있는 질문을 먼저하는 것이 관건\n",
    "# 데이터의 특징 속에서 분류에큰 영향을 끼치는 특징을 발견하고, 상위 노드로 선택하는 알고리즘이 핵심\n",
    "\n",
    "# 스무고개를 할 때 질문을 하나 던질 때마다 정답에 대한 불확실성이 조금씩 줄어드는데,\n",
    "# 정보 이론에선 이 불확실성을 수치적으로 표현한 값을 '엔트로피' 라고 표현하며\n",
    "# 정보 이득은 질문 이전의 엔트로피에서 질문 후의 엔트로피를 뺀 값이다\n",
    "# 정보 이득 = 질문 전 엔트로피 - 질문 후 엔트로피 | Gain(T, X) = Entropy(T) - Entropy(T, X)\n",
    "# -> 불확실성이 줄어든 정도를 정보 이득이라고 함\n",
    "\n",
    "# 서울 지역 분류하기 (강동, 강서, 강남, 강북)\n",
    "\n",
    "import pandas as pd\n",
    "\n",
    "district_dict_list = [\n",
    "            {'district': 'Gangseo-gu', 'latitude': 37.551000, 'longitude': 126.849500, 'label':'Gangseo'},\n",
    "            {'district': 'Yangcheon-gu', 'latitude': 37.52424, 'longitude': 126.855396, 'label':'Gangseo'},\n",
    "            {'district': 'Guro-gu', 'latitude': 37.4954, 'longitude': 126.8874, 'label':'Gangseo'},\n",
    "            {'district': 'Geumcheon-gu', 'latitude': 37.4519, 'longitude': 126.9020, 'label':'Gangseo'},\n",
    "            {'district': 'Mapo-gu', 'latitude': 37.560229, 'longitude': 126.908728, 'label':'Gangseo'},\n",
    "\n",
    "            {'district': 'Gwanak-gu', 'latitude': 37.487517, 'longitude': 126.915065, 'label':'Gangnam'},\n",
    "            {'district': 'Dongjak-gu', 'latitude': 37.5124, 'longitude': 126.9393, 'label':'Gangnam'},\n",
    "            {'district': 'Seocho-gu', 'latitude': 37.4837, 'longitude': 127.0324, 'label':'Gangnam'},\n",
    "            {'district': 'Gangnam-gu', 'latitude': 37.5172, 'longitude': 127.0473, 'label':'Gangnam'},\n",
    "            {'district': 'Songpa-gu', 'latitude': 37.503510, 'longitude': 127.117898, 'label':'Gangnam'},\n",
    "\n",
    "            {'district': 'Yongsan-gu', 'latitude': 37.532561, 'longitude': 127.008605, 'label':'Gangbuk'},\n",
    "            {'district': 'Jongro-gu', 'latitude': 37.5730, 'longitude': 126.9794, 'label':'Gangbuk'},\n",
    "            {'district': 'Seongbuk-gu', 'latitude': 37.603979, 'longitude': 127.056344, 'label':'Gangbuk'},\n",
    "            {'district': 'Nowon-gu', 'latitude': 37.6542, 'longitude': 127.0568, 'label':'Gangbuk'},\n",
    "            {'district': 'Dobong-gu', 'latitude': 37.6688, 'longitude': 127.0471, 'label':'Gangbuk'},\n",
    "\n",
    "            {'district': 'Seongdong-gu', 'latitude': 37.557340, 'longitude': 127.041667, 'label':'Gangdong'},\n",
    "            {'district': 'Dongdaemun-gu', 'latitude': 37.575759, 'longitude': 127.025288, 'label':'Gangdong'},\n",
    "            {'district': 'Gwangjin-gu', 'latitude': 37.557562, 'longitude': 127.083467, 'label':'Gangdong'},\n",
    "            {'district': 'Gangdong-gu', 'latitude': 37.554194, 'longitude': 127.151405, 'label':'Gangdong'},\n",
    "            {'district': 'Jungrang-gu', 'latitude': 37.593684, 'longitude': 127.090384, 'label':'Gangdong'}\n",
    "         ]\n",
    "\n",
    "train_df = pd.DataFrame(district_dict_list)\n",
    "train_df = train_df[['district', 'longitude', 'latitude', 'label']]\n",
    "\n",
    "dong_dict_list = [\n",
    "            {'dong': 'Gaebong-dong', 'latitude': 37.489853, 'longitude': 126.854547, 'label':'Gangseo'},\n",
    "            {'dong': 'Gochuk-dong', 'latitude': 37.501394, 'longitude': 126.859245, 'label':'Gangseo'},\n",
    "            {'dong': 'Hwagok-dong', 'latitude': 37.537759, 'longitude': 126.847951, 'label':'Gangseo'},\n",
    "            {'dong': 'Banghwa-dong', 'latitude': 37.575817, 'longitude': 126.815719, 'label':'Gangseo'},\n",
    "            {'dong': 'Sangam-dong', 'latitude': 37.577039, 'longitude': 126.891620, 'label':'Gangseo'},\n",
    "\n",
    "            {'dong': 'Nonhyun-dong', 'latitude': 37.508838, 'longitude': 127.030720, 'label':'Gangnam'},\n",
    "            {'dong': 'Daechi-dong', 'latitude': 37.501163, 'longitude': 127.057193, 'label':'Gangnam'},\n",
    "            {'dong': 'Seocho-dong', 'latitude': 37.486401, 'longitude': 127.018281, 'label':'Gangnam'},\n",
    "            {'dong': 'Bangbae-dong', 'latitude': 37.483279, 'longitude': 126.988194, 'label':'Gangnam'},\n",
    "            {'dong': 'Dogok-dong', 'latitude': 37.492896, 'longitude': 127.043159, 'label':'Gangnam'},\n",
    "\n",
    "            {'dong': 'Pyoungchang-dong', 'latitude': 37.612129, 'longitude': 126.975724, 'label':'Gangbuk'},\n",
    "            {'dong': 'Sungbuk-dong', 'latitude': 37.597916, 'longitude': 126.998067, 'label':'Gangbuk'},\n",
    "            {'dong': 'Ssangmoon-dong', 'latitude': 37.648094, 'longitude': 127.030421, 'label':'Gangbuk'},\n",
    "            {'dong': 'Ui-dong', 'latitude': 37.648446, 'longitude': 127.011396, 'label':'Gangbuk'},\n",
    "            {'dong': 'Samcheong-dong', 'latitude': 37.591109, 'longitude': 126.980488, 'label':'Gangbuk'},\n",
    "\n",
    "            {'dong': 'Hwayang-dong', 'latitude': 37.544234, 'longitude': 127.071648, 'label':'Gangdong'},\n",
    "            {'dong': 'Gui-dong', 'latitude': 37.543757, 'longitude': 127.086803, 'label':'Gangdong'},\n",
    "            {'dong': 'Neung-dong', 'latitude': 37.553102, 'longitude': 127.080248, 'label':'Gangdong'},\n",
    "            {'dong': 'Amsa-dong', 'latitude': 37.552370, 'longitude': 127.127124, 'label':'Gangdong'},\n",
    "            {'dong': 'Chunho-dong', 'latitude': 37.547436, 'longitude': 127.137382, 'label':'Gangdong'}\n",
    "         ]\n",
    "\n",
    "test_df = pd.DataFrame(dong_dict_list)\n",
    "test_df = test_df[['dong', 'longitude', 'latitude', 'label']]"
   ]
  },
  {
   "cell_type": "code",
   "execution_count": 15,
   "outputs": [
    {
     "name": "stdout",
     "output_type": "stream",
     "text": [
      "Gangseo     5\n",
      "Gangnam     5\n",
      "Gangdong    5\n",
      "Gangbuk     5\n",
      "Name: label, dtype: int64\n",
      "\n",
      "Gangseo     5\n",
      "Gangnam     5\n",
      "Gangdong    5\n",
      "Gangbuk     5\n",
      "Name: label, dtype: int64\n",
      "\n"
     ]
    },
    {
     "data": {
      "text/plain": "        longitude   latitude\ncount   20.000000  20.000000\nmean   126.999772  37.547909\nstd      0.089387   0.055086\nmin    126.849500  37.451900\n25%    126.913481  37.510177\n50%    127.028844  37.552597\n75%    127.056458  37.573690\nmax    127.151405  37.668800",
      "text/html": "<div>\n<style scoped>\n    .dataframe tbody tr th:only-of-type {\n        vertical-align: middle;\n    }\n\n    .dataframe tbody tr th {\n        vertical-align: top;\n    }\n\n    .dataframe thead th {\n        text-align: right;\n    }\n</style>\n<table border=\"1\" class=\"dataframe\">\n  <thead>\n    <tr style=\"text-align: right;\">\n      <th></th>\n      <th>longitude</th>\n      <th>latitude</th>\n    </tr>\n  </thead>\n  <tbody>\n    <tr>\n      <th>count</th>\n      <td>20.000000</td>\n      <td>20.000000</td>\n    </tr>\n    <tr>\n      <th>mean</th>\n      <td>126.999772</td>\n      <td>37.547909</td>\n    </tr>\n    <tr>\n      <th>std</th>\n      <td>0.089387</td>\n      <td>0.055086</td>\n    </tr>\n    <tr>\n      <th>min</th>\n      <td>126.849500</td>\n      <td>37.451900</td>\n    </tr>\n    <tr>\n      <th>25%</th>\n      <td>126.913481</td>\n      <td>37.510177</td>\n    </tr>\n    <tr>\n      <th>50%</th>\n      <td>127.028844</td>\n      <td>37.552597</td>\n    </tr>\n    <tr>\n      <th>75%</th>\n      <td>127.056458</td>\n      <td>37.573690</td>\n    </tr>\n    <tr>\n      <th>max</th>\n      <td>127.151405</td>\n      <td>37.668800</td>\n    </tr>\n  </tbody>\n</table>\n</div>"
     },
     "execution_count": 15,
     "metadata": {},
     "output_type": "execute_result"
    }
   ],
   "source": [
    "# 현재 가지고 있는 데이터에서 레이블 갯수 확인\n",
    "print(train_df.label.value_counts())\n",
    "print()\n",
    "print(test_df.label.value_counts())\n",
    "print()\n",
    "train_df.describe()"
   ],
   "metadata": {
    "collapsed": false,
    "pycharm": {
     "name": "#%%\n"
    }
   }
  },
  {
   "cell_type": "code",
   "execution_count": 16,
   "outputs": [
    {
     "data": {
      "text/plain": "       district   longitude   latitude    label\n0    Gangseo-gu  126.849500  37.551000  Gangseo\n1  Yangcheon-gu  126.855396  37.524240  Gangseo\n2       Guro-gu  126.887400  37.495400  Gangseo\n3  Geumcheon-gu  126.902000  37.451900  Gangseo\n4       Mapo-gu  126.908728  37.560229  Gangseo",
      "text/html": "<div>\n<style scoped>\n    .dataframe tbody tr th:only-of-type {\n        vertical-align: middle;\n    }\n\n    .dataframe tbody tr th {\n        vertical-align: top;\n    }\n\n    .dataframe thead th {\n        text-align: right;\n    }\n</style>\n<table border=\"1\" class=\"dataframe\">\n  <thead>\n    <tr style=\"text-align: right;\">\n      <th></th>\n      <th>district</th>\n      <th>longitude</th>\n      <th>latitude</th>\n      <th>label</th>\n    </tr>\n  </thead>\n  <tbody>\n    <tr>\n      <th>0</th>\n      <td>Gangseo-gu</td>\n      <td>126.849500</td>\n      <td>37.551000</td>\n      <td>Gangseo</td>\n    </tr>\n    <tr>\n      <th>1</th>\n      <td>Yangcheon-gu</td>\n      <td>126.855396</td>\n      <td>37.524240</td>\n      <td>Gangseo</td>\n    </tr>\n    <tr>\n      <th>2</th>\n      <td>Guro-gu</td>\n      <td>126.887400</td>\n      <td>37.495400</td>\n      <td>Gangseo</td>\n    </tr>\n    <tr>\n      <th>3</th>\n      <td>Geumcheon-gu</td>\n      <td>126.902000</td>\n      <td>37.451900</td>\n      <td>Gangseo</td>\n    </tr>\n    <tr>\n      <th>4</th>\n      <td>Mapo-gu</td>\n      <td>126.908728</td>\n      <td>37.560229</td>\n      <td>Gangseo</td>\n    </tr>\n  </tbody>\n</table>\n</div>"
     },
     "execution_count": 16,
     "metadata": {},
     "output_type": "execute_result"
    }
   ],
   "source": [
    "train_df.head()"
   ],
   "metadata": {
    "collapsed": false,
    "pycharm": {
     "name": "#%%\n"
    }
   }
  },
  {
   "cell_type": "code",
   "execution_count": 17,
   "outputs": [
    {
     "data": {
      "text/plain": "           dong   longitude   latitude    label\n0  Gaebong-dong  126.854547  37.489853  Gangseo\n1   Gochuk-dong  126.859245  37.501394  Gangseo\n2   Hwagok-dong  126.847951  37.537759  Gangseo\n3  Banghwa-dong  126.815719  37.575817  Gangseo\n4   Sangam-dong  126.891620  37.577039  Gangseo",
      "text/html": "<div>\n<style scoped>\n    .dataframe tbody tr th:only-of-type {\n        vertical-align: middle;\n    }\n\n    .dataframe tbody tr th {\n        vertical-align: top;\n    }\n\n    .dataframe thead th {\n        text-align: right;\n    }\n</style>\n<table border=\"1\" class=\"dataframe\">\n  <thead>\n    <tr style=\"text-align: right;\">\n      <th></th>\n      <th>dong</th>\n      <th>longitude</th>\n      <th>latitude</th>\n      <th>label</th>\n    </tr>\n  </thead>\n  <tbody>\n    <tr>\n      <th>0</th>\n      <td>Gaebong-dong</td>\n      <td>126.854547</td>\n      <td>37.489853</td>\n      <td>Gangseo</td>\n    </tr>\n    <tr>\n      <th>1</th>\n      <td>Gochuk-dong</td>\n      <td>126.859245</td>\n      <td>37.501394</td>\n      <td>Gangseo</td>\n    </tr>\n    <tr>\n      <th>2</th>\n      <td>Hwagok-dong</td>\n      <td>126.847951</td>\n      <td>37.537759</td>\n      <td>Gangseo</td>\n    </tr>\n    <tr>\n      <th>3</th>\n      <td>Banghwa-dong</td>\n      <td>126.815719</td>\n      <td>37.575817</td>\n      <td>Gangseo</td>\n    </tr>\n    <tr>\n      <th>4</th>\n      <td>Sangam-dong</td>\n      <td>126.891620</td>\n      <td>37.577039</td>\n      <td>Gangseo</td>\n    </tr>\n  </tbody>\n</table>\n</div>"
     },
     "execution_count": 17,
     "metadata": {},
     "output_type": "execute_result"
    }
   ],
   "source": [
    "test_df.head()"
   ],
   "metadata": {
    "collapsed": false,
    "pycharm": {
     "name": "#%%\n"
    }
   }
  },
  {
   "cell_type": "code",
   "execution_count": 19,
   "outputs": [
    {
     "name": "stderr",
     "output_type": "stream",
     "text": [
      "/Library/Frameworks/Python.framework/Versions/3.8/lib/python3.8/site-packages/seaborn/_decorators.py:36: FutureWarning: Pass the following variables as keyword args: x, y. From version 0.12, the only valid positional argument will be `data`, and passing other arguments without an explicit keyword will result in an error or misinterpretation.\n",
      "  warnings.warn(\n"
     ]
    },
    {
     "data": {
      "text/plain": "Text(0.5, 1.0, 'District visualization in 2D Plane')"
     },
     "execution_count": 19,
     "metadata": {},
     "output_type": "execute_result"
    },
    {
     "data": {
      "text/plain": "<Figure size 447.75x360 with 1 Axes>",
      "image/png": "[encoded data removed]"
     },
     "metadata": {
      "needs_background": "light"
     },
     "output_type": "display_data"
    }
   ],
   "source": [
    "# 시각화 하기\n",
    "# 2차원 평면으로만 봐도 동서남북으로 분류된 것이 보임\n",
    "import matplotlib.pyplot as plt\n",
    "import seaborn as sns\n",
    "%matplotlib inline\n",
    "\n",
    "sns.lmplot('longitude', 'latitude', data=train_df, fit_reg=False,\n",
    "           scatter_kws={\"s\": 150},\n",
    "           markers=[\"o\",\"x\",\"+\",\"*\"],\n",
    "           hue=\"label\")\n",
    "plt.grid(True)\n",
    "plt.title('District visualization in 2D Plane')\n"
   ],
   "metadata": {
    "collapsed": false,
    "pycharm": {
     "name": "#%%\n"
    }
   }
  }
 ],
 "metadata": {
  "kernelspec": {
   "display_name": "Python 3",
   "language": "python",
   "name": "python3"
  },
  "language_info": {
   "codemirror_mode": {
    "name": "ipython",
    "version": 2
   },
   "file_extension": ".py",
   "mimetype": "text/x-python",
   "name": "python",
   "nbconvert_exporter": "python",
   "pygments_lexer": "ipython2",
   "version": "2.7.6"
  }
 },
 "nbformat": 4,
 "nbformat_minor": 0
}