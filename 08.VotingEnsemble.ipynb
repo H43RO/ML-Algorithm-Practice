{
 "cells": [
  {
   "cell_type": "code",
   "execution_count": 2,
   "metadata": {
    "collapsed": true
   },
   "outputs": [],
   "source": [
    "from sklearn import datasets\n",
    "from sklearn import tree\n",
    "from sklearn.neighbors import KNeighborsClassifier\n",
    "from sklearn.svm import SVC\n",
    "from sklearn.ensemble import VotingClassifier\n",
    "from sklearn.model_selection import train_test_split\n",
    "from sklearn.metrics import accuracy_score"
   ]
  },
  {
   "cell_type": "code",
   "execution_count": 3,
   "outputs": [],
   "source": [
    "# MNIST 손글씨 데이터 로드\n",
    "mnist = datasets.load_digits()\n",
    "features, labels = mnist.data, mnist.target\n",
    "X_train, X_test, y_train, y_test=train_test_split(features,labels,test_size=0.2)"
   ],
   "metadata": {
    "collapsed": false,
    "pycharm": {
     "name": "#%%\n"
    }
   }
  },
  {
   "cell_type": "code",
   "execution_count": 4,
   "outputs": [],
   "source": [
    "# 단일 모델 정확도 측정\n",
    "# 의사결정 트리, kNN, SVM 모델 정확도 측정하기\n",
    "\n",
    "dtree = tree.DecisionTreeClassifier(\n",
    "    criterion=\"gini\", max_depth=8, max_features=32, random_state=35\n",
    ")\n",
    "\n",
    "dtree = dtree.fit(X_train, y_train)\n",
    "dtree_predicted = dtree.predict(X_test)\n",
    "\n",
    "knn = KNeighborsClassifier(n_neighbors=299).fit(X_train, y_train)\n",
    "knn_predicted = knn.predict(X_test)\n",
    "\n",
    "svm = SVC(C=0.1, gamma=0.003,\n",
    "          probability=True, random_state=35).fit(X_train, y_train)\n",
    "svm_predicted = svm.predict(X_test)"
   ],
   "metadata": {
    "collapsed": false,
    "pycharm": {
     "name": "#%%\n"
    }
   }
  },
  {
   "cell_type": "code",
   "execution_count": 5,
   "outputs": [
    {
     "name": "stdout",
     "output_type": "stream",
     "text": [
      "[Accuracy]\n",
      "D-tree :  0.7833333333333333\n",
      "kNN :  0.8222222222222222\n",
      "SVM :  0.9111111111111111\n"
     ]
    }
   ],
   "source": [
    "print(\"[Accuracy]\")\n",
    "print(\"D-tree : \", accuracy_score(y_test, dtree_predicted))\n",
    "print(\"kNN : \", accuracy_score(y_test, knn_predicted))\n",
    "print(\"SVM : \", accuracy_score(y_test, svm_predicted))"
   ],
   "metadata": {
    "collapsed": false,
    "pycharm": {
     "name": "#%%\n"
    }
   }
  },
  {
   "cell_type": "code",
   "execution_count": 6,
   "outputs": [
    {
     "name": "stdout",
     "output_type": "stream",
     "text": [
      "[[0.01159234 0.49363732 0.07787787 0.02988625 0.0267274  0.0705459\n",
      "  0.01687466 0.03139262 0.18365973 0.05780591]\n",
      " [0.0074327  0.03297096 0.02957941 0.02027522 0.01997975 0.64764499\n",
      "  0.0093664  0.0304198  0.13113918 0.07119159]]\n"
     ]
    }
   ],
   "source": [
    "svm_proba = svm.predict_proba(X_test)\n",
    "print(svm_proba[0:2])"
   ],
   "metadata": {
    "collapsed": false,
    "pycharm": {
     "name": "#%%\n"
    }
   }
  },
  {
   "cell_type": "code",
   "execution_count": 7,
   "outputs": [
    {
     "data": {
      "text/plain": "0.9083333333333333"
     },
     "execution_count": 7,
     "metadata": {},
     "output_type": "execute_result"
    }
   ],
   "source": [
    "# 하드 보팅\n",
    "voting_clf = VotingClassifier(estimators=[\n",
    "    ('decision_tree', dtree), ('knn', knn), ('svm', svm)\n",
    "], weights=[1, 1, 1], voting='hard').fit(X_train, y_train)\n",
    "hard_voting_predicted = voting_clf.predict(X_test)\n",
    "accuracy_score(y_test, hard_voting_predicted)"
   ],
   "metadata": {
    "collapsed": false,
    "pycharm": {
     "name": "#%%\n"
    }
   }
  },
  {
   "cell_type": "code",
   "execution_count": 8,
   "outputs": [
    {
     "data": {
      "text/plain": "0.8833333333333333"
     },
     "execution_count": 8,
     "metadata": {},
     "output_type": "execute_result"
    }
   ],
   "source": [
    "# 소프트 보팅\n",
    "voting_clf = VotingClassifier(estimators=[\n",
    "    ('decision_tree', dtree), ('knn', knn), ('svm', svm)\n",
    "], weights=[1, 1, 1], voting='soft').fit(X_train, y_train)\n",
    "soft_voting_predicted = voting_clf.predict(X_test)\n",
    "accuracy_score(y_test, soft_voting_predicted)"
   ],
   "metadata": {
    "collapsed": false,
    "pycharm": {
     "name": "#%%\n"
    }
   }
  },
  {
   "cell_type": "code",
   "execution_count": 9,
   "outputs": [
    {
     "name": "stdout",
     "output_type": "stream",
     "text": [
      "complete\n"
     ]
    },
    {
     "data": {
      "text/plain": "<Figure size 432x288 with 1 Axes>",
      "image/png": "[encoded data removed]"
     },
     "metadata": {
      "needs_background": "light"
     },
     "output_type": "display_data"
    }
   ],
   "source": [
    "import matplotlib.pyplot as plt\n",
    "import numpy as np\n",
    "%matplotlib inline\n",
    "\n",
    "x = np.arange(5)\n",
    "plt.bar(x, height= [accuracy_score(y_test, dtree_predicted),\n",
    "                    accuracy_score(y_test, knn_predicted),\n",
    "                    accuracy_score(y_test, svm_predicted),\n",
    "                    accuracy_score(y_test, hard_voting_predicted),\n",
    "                    accuracy_score(y_test, soft_voting_predicted)])\n",
    "plt.xticks(x, ['decision tree', 'knn', 'svm', 'hard voting', 'soft voting'])\n",
    "\n",
    "print('complete')"
   ],
   "metadata": {
    "collapsed": false,
    "pycharm": {
     "name": "#%%\n"
    }
   }
  },
  {
   "cell_type": "code",
   "execution_count": 9,
   "outputs": [],
   "source": [],
   "metadata": {
    "collapsed": false,
    "pycharm": {
     "name": "#%%\n"
    }
   }
  }
 ],
 "metadata": {
  "kernelspec": {
   "display_name": "Python 3",
   "language": "python",
   "name": "python3"
  },
  "language_info": {
   "codemirror_mode": {
    "name": "ipython",
    "version": 2
   },
   "file_extension": ".py",
   "mimetype": "text/x-python",
   "name": "python",
   "nbconvert_exporter": "python",
   "pygments_lexer": "ipython2",
   "version": "2.7.6"
  }
 },
 "nbformat": 4,
 "nbformat_minor": 0
}